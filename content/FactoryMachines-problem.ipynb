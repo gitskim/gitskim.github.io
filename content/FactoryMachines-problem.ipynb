{
 "cells": [
  {
   "cell_type": "markdown",
   "id": "1bbac64b",
   "metadata": {},
   "source": [
    "## Question\n",
    "\n",
    "Suppose two different machines at a factory are both used to cut pipe to a certain length. They are never perfect; there is always some error in the length they cut. You've collected errors (in millimeters) from the two machines in arrays $Y$ and $Z$. How do you determine if the distribution of errors is different? If a coworker disagrees with you, how can you quantitatively support your hypothesis?\n",
    "\n",
    "Use the provided data to demonstrate your method."
   ]
  },
  {
   "cell_type": "code",
   "execution_count": 1,
   "id": "a2fd95e3",
   "metadata": {},
   "outputs": [],
   "source": [
    "# don't read this cell, just run it 😊\n",
    "import numpy as np\n",
    "import matplotlib.pyplot as plt\n",
    "\n",
    "%matplotlib inline\n",
    "\n",
    "def make_data_1():\n",
    "    return np.random.normal(0.1, 1, 10000)\n",
    "\n",
    "def make_data_2():\n",
    "    a = np.random.normal(-0.9, 0.4, 5000)\n",
    "    b = np.random.normal(1.1, 0.4, 5000)\n",
    "    y = np.concatenate((a, b))\n",
    "    np.random.shuffle(y)\n",
    "    return y"
   ]
  },
  {
   "cell_type": "code",
   "execution_count": 32,
   "id": "dfd53a6c",
   "metadata": {},
   "outputs": [],
   "source": [
    "Y = make_data_1()\n",
    "Z = make_data_2()"
   ]
  },
  {
   "cell_type": "code",
   "execution_count": 2,
   "id": "7db6212b",
   "metadata": {},
   "outputs": [],
   "source": [
    "# your code here"
   ]
  },
  {
   "cell_type": "code",
   "execution_count": null,
   "id": "2a5d9334",
   "metadata": {},
   "outputs": [],
   "source": []
  }
 ],
 "metadata": {
  "kernelspec": {
   "display_name": "Python 3 (ipykernel)",
   "language": "python",
   "name": "python3"
  },
  "language_info": {
   "codemirror_mode": {
    "name": "ipython",
    "version": 3
   },
   "file_extension": ".py",
   "mimetype": "text/x-python",
   "name": "python",
   "nbconvert_exporter": "python",
   "pygments_lexer": "ipython3",
   "version": "3.11.2"
  }
 },
 "nbformat": 4,
 "nbformat_minor": 5
}
