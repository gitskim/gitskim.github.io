{
 "cells": [
  {
   "cell_type": "code",
   "execution_count": 1,
   "id": "06a389fb",
   "metadata": {},
   "outputs": [],
   "source": [
    "import numpy as np\n",
    "import matplotlib.pyplot as plt\n",
    "import matplotlib\n",
    "\n",
    "%matplotlib inline\n",
    "\n",
    "# This shows how to control some plot style parameters. You can change them to\n",
    "# suit the website's style\n",
    "plt.style.use(\"classic\")\n",
    "plt.rcParams['axes.grid'] = True\n",
    "plt.rcParams['axes.facecolor'] = '#EEEEEE'\n",
    "plt.rcParams[\"font.sans-serif\"] = [\"Helvetica\"]\n",
    "plt.rcParams[\"axes.xmargin\"] = 0.05\n",
    "plt.rcParams[\"axes.ymargin\"] = 0.05\n",
    "plt.rcParams[\"figure.constrained_layout.use\"] = True\n",
    "plt.rcParams[\"legend.fontsize\"] = \"medium\"\n",
    "plt.rcParams[\"image.cmap\"] = \"gnuplot\""
   ]
  },
  {
   "cell_type": "markdown",
   "id": "de50f875",
   "metadata": {},
   "source": [
    "# Data Generation\n",
    "\n",
    "No need to pay attention to this"
   ]
  },
  {
   "cell_type": "code",
   "execution_count": 57,
   "id": "b8fb9260",
   "metadata": {},
   "outputs": [],
   "source": [
    "N = 1000\n",
    "noise_rate = 0.1\n",
    "ground_truth = np.random.uniform(0, 1, N) < noise_rate\n",
    "model_data_1 = np.array(ground_truth)\n",
    "mask = np.random.uniform(0, 1, N) < 0.2\n",
    "model_data_1[mask] = ~ground_truth[mask]\n",
    "#model_data_2 = np.random.uniform(0, 1, N) < noise_rate\n",
    "model_data_2 = np.zeros_like(ground_truth)"
   ]
  },
  {
   "cell_type": "markdown",
   "id": "712fc3fd",
   "metadata": {},
   "source": [
    "# Problem Statement\n",
    "\n",
    "There are 2 machine learning models predicting whether or not if a patient has cancer. Model 1 generated `model_data_1` and Model 2 generated `model_data_2`. You are given `ground_truth` as the ground truth of whether or not if a patient has a cancer. Your task is to use the precision and recall of each model to decide which one is better. For the purposes of cancer detection, the worst case scenario for a patient is that they do have cancer but you miss the detection: a false positive is not as bad as a false negative."
   ]
  },
  {
   "cell_type": "markdown",
   "id": "c89802a2",
   "metadata": {},
   "source": [
    "# Problem 1\n",
    "Tabulate the confusion matrix for each model."
   ]
  },
  {
   "cell_type": "code",
   "execution_count": 58,
   "id": "f6dd8398",
   "metadata": {},
   "outputs": [],
   "source": [
    "def create_confusion_matrix(ground_truth, model_data):\n",
    "    # TODO"
   ]
  },
  {
   "cell_type": "markdown",
   "id": "0500611f",
   "metadata": {},
   "source": [
    "# Problem 2 \n",
    "Calculate accuracy, precision and recall for each model. "
   ]
  },
  {
   "cell_type": "code",
   "execution_count": 65,
   "id": "b12d61c6",
   "metadata": {},
   "outputs": [],
   "source": [
    "def calculate_accuracy(confusion_matrix, N):\n",
    "    # TODO"
   ]
  },
  {
   "cell_type": "code",
   "execution_count": 67,
   "id": "31202009",
   "metadata": {},
   "outputs": [],
   "source": [
    "def calculate_precision(confusion_matrix):\n",
    "    # TODO"
   ]
  },
  {
   "cell_type": "code",
   "execution_count": 68,
   "id": "e5ae51b6",
   "metadata": {},
   "outputs": [],
   "source": [
    "def calculate_recall(confusion_matrix):\n",
    "    # TODO"
   ]
  },
  {
   "cell_type": "markdown",
   "id": "074c2093",
   "metadata": {},
   "source": [
    "# Problem 3\n",
    "Describe which model performed better and why?"
   ]
  },
  {
   "cell_type": "markdown",
   "id": "034f108b",
   "metadata": {},
   "source": [
    "# Reference\n",
    "https://www.nbshare.io/notebook/626706996/Learn-And-Code-Confusion-Matrix-With-Python/"
   ]
  },
  {
   "cell_type": "code",
   "execution_count": null,
   "id": "11a0269f",
   "metadata": {},
   "outputs": [],
   "source": []
  }
 ],
 "metadata": {
  "kernelspec": {
   "display_name": "Python 3 (ipykernel)",
   "language": "python",
   "name": "python3"
  },
  "language_info": {
   "codemirror_mode": {
    "name": "ipython",
    "version": 3
   },
   "file_extension": ".py",
   "mimetype": "text/x-python",
   "name": "python",
   "nbconvert_exporter": "python",
   "pygments_lexer": "ipython3",
   "version": "3.10.8"
  }
 },
 "nbformat": 4,
 "nbformat_minor": 5
}
