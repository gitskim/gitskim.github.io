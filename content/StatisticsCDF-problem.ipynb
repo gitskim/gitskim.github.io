{
 "cells": [
  {
   "cell_type": "markdown",
   "id": "5f0c6fb0",
   "metadata": {},
   "source": [
    "## Cumulative distribution function\n",
    "\n",
    "The *cumulative distribution function (CDF)* of a random variable $y$ is a function $\\Phi$ from $\\mathbf{R}$ to $[0, 1]$. The number $\\Phi(x)$ represents the probability that you will draw a number less than or equal to $x$, that is,\n",
    "$$ \\Phi(x) = \\mathbf{P(y \\le x)}.$$\n",
    "For example, if $y$ is distrubuted uniformly on the interval $[5, 6]$, $\\Phi$ is zero for $x < 5$, goes linearly from zero to one over the interval $[5, 6]$, and is one for $x > 6$.\n",
    "\n",
    "The *empirical CDF* of a set $Y$ of $N$ random numbers is defined similarly: $\\Phi(x)$ is the probability that a randomly selected element of $Y$ is less than or equal to $x$. That is, $\\Phi(x)$ the number of elements of $Y$ less than or equal to $x$, divided by $N$."
   ]
  },
  {
   "cell_type": "code",
   "execution_count": null,
   "id": "93e3f5ac",
   "metadata": {},
   "outputs": [],
   "source": [
    "import numpy as np\n",
    "import matplotlib.pyplot as plt\n",
    "\n",
    "%matplotlib inline\n",
    "\n",
    "def make_data():\n",
    "    m = np.random.uniform(-3, 3)\n",
    "    return np.random.normal(m, 2, 10000)"
   ]
  },
  {
   "cell_type": "markdown",
   "id": "9fb15b9b",
   "metadata": {},
   "source": [
    "### Question 1\n",
    "\n",
    "Write a function that takes an array of numbers as input and returns their CDF. How will you represent the CDF -- is it also a function, an array, or what? Explain your choice."
   ]
  },
  {
   "cell_type": "code",
   "execution_count": 56,
   "id": "899a4a69",
   "metadata": {},
   "outputs": [],
   "source": [
    "Y = make_data()"
   ]
  },
  {
   "cell_type": "code",
   "execution_count": null,
   "id": "c736d3bc",
   "metadata": {},
   "outputs": [],
   "source": [
    "def cdf(Y, x):\n",
    "    # TODO"
   ]
  },
  {
   "cell_type": "markdown",
   "id": "ad02992b",
   "metadata": {},
   "source": [
    "### Question 2\n",
    "\n",
    "How is the CDF related to the histogram?"
   ]
  }
 ],
 "metadata": {
  "kernelspec": {
   "display_name": "Python 3 (ipykernel)",
   "language": "python",
   "name": "python3"
  },
  "language_info": {
   "codemirror_mode": {
    "name": "ipython",
    "version": 3
   },
   "file_extension": ".py",
   "mimetype": "text/x-python",
   "name": "python",
   "nbconvert_exporter": "python",
   "pygments_lexer": "ipython3",
   "version": "3.11.2"
  }
 },
 "nbformat": 4,
 "nbformat_minor": 5
}
