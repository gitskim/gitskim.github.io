{
 "cells": [
  {
   "cell_type": "code",
   "execution_count": 1,
   "id": "43c24fff",
   "metadata": {},
   "outputs": [],
   "source": [
    "import numpy as np\n",
    "import matplotlib.pyplot as plt\n",
    "%matplotlib inline"
   ]
  },
  {
   "cell_type": "markdown",
   "id": "0b8f54b6",
   "metadata": {},
   "source": [
    "# k-nearest neighbors\n",
    "## 1. dataset"
   ]
  },
  {
   "cell_type": "code",
   "execution_count": 2,
   "id": "40b79f4c",
   "metadata": {},
   "outputs": [
    {
     "data": {
      "image/png": "[encoded data removed]",
      "text/plain": [
       "<Figure size 432x288 with 3 Axes>"
      ]
     },
     "metadata": {
      "needs_background": "light"
     },
     "output_type": "display_data"
    }
   ],
   "source": [
    "N = 20000\n",
    "X1 = np.random.normal(0, 1, N//2) # xs for class 1\n",
    "X2 = np.random.normal(3, 1, N//2) # xs for class 2\n",
    "X = np.concatenate((X1, X2))\n",
    "Y = np.zeros(N) # class labels\n",
    "Y[N//2:] = 1\n",
    "\n",
    "fig = plt.figure()\n",
    "ax = fig.add_subplot(221)\n",
    "ax2 = fig.add_subplot(222)\n",
    "ax3 = fig.add_subplot(212)\n",
    "_ = ax.hist(X1, alpha=0.5, bins=64)\n",
    "_ = ax2.hist(X2, alpha=0.5, bins=64)\n",
    "_ = ax3.hist(X1, alpha=0.5, bins=64)\n",
    "_ = ax3.hist(X2, alpha = 0.5, bins=64)"
   ]
  },
  {
   "cell_type": "code",
   "execution_count": 3,
   "id": "0d525a1b",
   "metadata": {},
   "outputs": [
    {
     "data": {
      "text/plain": [
       "[<matplotlib.lines.Line2D at 0x10854c4f0>]"
      ]
     },
     "execution_count": 3,
     "metadata": {},
     "output_type": "execute_result"
    },
    {
     "data": {
      "image/png": "[encoded data removed]",
      "text/plain": [
       "<Figure size 432x288 with 1 Axes>"
      ]
     },
     "metadata": {
      "needs_background": "light"
     },
     "output_type": "display_data"
    }
   ],
   "source": [
    "fig = plt.figure()\n",
    "ax = fig.add_subplot(111)\n",
    "ax.plot(np.sort(X1), np.sort(X2), \".\")"
   ]
  },
  {
   "cell_type": "markdown",
   "id": "904587cb",
   "metadata": {},
   "source": [
    "## 2. questions"
   ]
  },
  {
   "cell_type": "markdown",
   "id": "8331b52c",
   "metadata": {},
   "source": [
    "# Question 1\n",
    "\n",
    "Implement 1-dimensional knn where input is a real number (not necessarily in X) and the output is 0 or 1, the predicted class"
   ]
  },
  {
   "cell_type": "code",
   "execution_count": 4,
   "id": "4c226976",
   "metadata": {},
   "outputs": [],
   "source": [
    "def calc_dist(x1, x2):\n",
    "    return np.abs(x1 - x2)"
   ]
  },
  {
   "cell_type": "code",
   "execution_count": 5,
   "id": "0d93bc2a",
   "metadata": {},
   "outputs": [
    {
     "data": {
      "text/plain": [
       "0.0"
      ]
     },
     "execution_count": 5,
     "metadata": {},
     "output_type": "execute_result"
    }
   ],
   "source": [
    "input_feature = 1.00123\n",
    "\n",
    "def knn(k, input_feature, X_train, Y_train):\n",
    "    indices = np.argsort(calc_dist(X_train, input_feature))\n",
    "    neighbors = Y_train[indices[:k]]\n",
    "    return np.round(np.average(neighbors))\n",
    "\n",
    "knn(5, input_feature, X, Y)"
   ]
  },
  {
   "cell_type": "markdown",
   "id": "ed83d7ec",
   "metadata": {},
   "source": [
    "# Question 2\n",
    "What are pros and cons of a big k and a small k?"
   ]
  },
  {
   "cell_type": "markdown",
   "id": "f0e86635",
   "metadata": {},
   "source": [
    "|| Big K | Small K | \n",
    "|---|---|---|\n",
    "| `pros`  |low variance| low bias|\n",
    "| `cons` |high bias|high variance|"
   ]
  },
  {
   "cell_type": "markdown",
   "id": "c0547230",
   "metadata": {},
   "source": [
    "# Question 3\n",
    "What is the time complexity and space complexity?"
   ]
  },
  {
   "cell_type": "markdown",
   "id": "470b9490",
   "metadata": {},
   "source": [
    "* Time complexity: O(N Log N) where N is the size of the train data\n",
    "* Space complexity: O(N)"
   ]
  },
  {
   "cell_type": "code",
   "execution_count": null,
   "id": "98401da9",
   "metadata": {},
   "outputs": [],
   "source": []
  }
 ],
 "metadata": {
  "kernelspec": {
   "display_name": "Python 3 (ipykernel)",
   "language": "python",
   "name": "python3"
  },
  "language_info": {
   "codemirror_mode": {
    "name": "ipython",
    "version": 3
   },
   "file_extension": ".py",
   "mimetype": "text/x-python",
   "name": "python",
   "nbconvert_exporter": "python",
   "pygments_lexer": "ipython3",
   "version": "3.10.8"
  }
 },
 "nbformat": 4,
 "nbformat_minor": 5
}
