{
 "cells": [
  {
   "cell_type": "code",
   "execution_count": 1,
   "id": "79d427a9",
   "metadata": {},
   "outputs": [],
   "source": [
    "import numpy as np\n",
    "import matplotlib.pyplot as plt"
   ]
  },
  {
   "cell_type": "code",
   "execution_count": 2,
   "id": "76bf1f82",
   "metadata": {},
   "outputs": [],
   "source": [
    "%matplotlib inline"
   ]
  },
  {
   "cell_type": "markdown",
   "id": "c3ad36c6",
   "metadata": {},
   "source": [
    "# Data Generation"
   ]
  },
  {
   "cell_type": "code",
   "execution_count": 8,
   "id": "5b47ed16",
   "metadata": {},
   "outputs": [],
   "source": [
    "N = 1000\n",
    "mu_1, sigma_1 = 75, 10\n",
    "exam_1 = np.random.normal(mu_1, sigma_1, N//2)\n",
    "exam_1 = exam_1.astype(int)\n",
    "exam_1 = np.clip(exam_1, 0, 100)\n",
    "mu_2, sigma_2 = 45, 10\n",
    "exam_2 = np.random.normal(mu_2, sigma_2, N//2)\n",
    "exam_2 = exam_2.astype(int)\n",
    "exam_2 = np.clip(exam_2, 0, 100)\n",
    "X = np.concatenate((exam_1, exam_2))\n",
    "Y = np.zeros(N, dtype=np.bool_)\n",
    "Y[:N//2] = 1"
   ]
  },
  {
   "cell_type": "code",
   "execution_count": 12,
   "id": "b4c0caa3",
   "metadata": {},
   "outputs": [
    {
     "data": {
      "image/png": "[encoded data removed]",
      "text/plain": [
       "<Figure size 432x288 with 3 Axes>"
      ]
     },
     "metadata": {
      "needs_background": "light"
     },
     "output_type": "display_data"
    }
   ],
   "source": [
    "fig = plt.figure()\n",
    "ax = fig.add_subplot(221)\n",
    "ax2 = fig.add_subplot(222)\n",
    "ax3 = fig.add_subplot(212)\n",
    "_ = ax.hist(exam_1, alpha = 0.5, bins=30)\n",
    "_ = ax2.hist(exam_2, alpha=0.5, bins=30)\n",
    "_ = ax3.hist(exam_1, alpha=0.5, bins=30)\n",
    "_ = ax3.hist(exam_2, alpha = 0.5, bins=30)"
   ]
  },
  {
   "cell_type": "markdown",
   "id": "cbc2fdbd",
   "metadata": {},
   "source": [
    "# Problem 1\n",
    "\n",
    "Let `X[i]` be the final exam score of student `i` and ranges from 0 to 100. Let `Y[i]` be 1 if they got into college and 0 if they didn't. `N` is the total number of students. As a student counselor, you want to know what should be a cutoff for the final exam scores to determine the likelihood of the student getting into college. Calculate the final exam score threshold that yields the highest precision and recall values."
   ]
  },
  {
   "cell_type": "markdown",
   "id": "5fa265cd",
   "metadata": {},
   "source": [
    "![Confusion Matrix](https://www.researchgate.net/publication/336402347/figure/fig3/AS:812472659349505@1570719985505/Calculation-of-Precision-Recall-and-Accuracy-in-the-confusion-matrix.ppm \"CM with precision and recall\")"
   ]
  },
  {
   "cell_type": "code",
   "execution_count": 16,
   "id": "180f4cf8",
   "metadata": {},
   "outputs": [],
   "source": [
    "def create_confusion_matrix(ground_truth, model_data):\n",
    "    #print(model_data)\n",
    "    tp = (ground_truth & model_data).sum()\n",
    "    tn = (~ground_truth & ~model_data).sum()\n",
    "    fp = (~ground_truth & model_data).sum()\n",
    "    fn = (ground_truth & ~model_data).sum()\n",
    "    confusion_matrix = np.array([[tp, fp], [fn, tn]])\n",
    "    return confusion_matrix"
   ]
  },
  {
   "cell_type": "code",
   "execution_count": 21,
   "id": "a011fa11",
   "metadata": {},
   "outputs": [],
   "source": [
    "def calculate_precision(confusion_matrix):\n",
    "    # tp / (tp + fp)\n",
    "    return confusion_matrix[0][0]/(1e-20 + confusion_matrix[0][0] + confusion_matrix[0][1])\n",
    "\n",
    "def calculate_recall(confusion_matrix):\n",
    "    # tp / (tp + fn)\n",
    "    return confusion_matrix[0][0]/(1e-20 + confusion_matrix[0][0] + confusion_matrix[1][0])"
   ]
  },
  {
   "cell_type": "code",
   "execution_count": 20,
   "id": "b1dbdcfb",
   "metadata": {},
   "outputs": [],
   "source": [
    "def generate_f1_score(precision, recall):\n",
    "    # TODO\n",
    "    return 2*(precision * recall)/(precision + recall)"
   ]
  },
  {
   "cell_type": "code",
   "execution_count": 14,
   "id": "f5c1092a",
   "metadata": {},
   "outputs": [
    {
     "data": {
      "text/plain": [
       "(0, 0)"
      ]
     },
     "execution_count": 14,
     "metadata": {},
     "output_type": "execute_result"
    }
   ],
   "source": [
    "def calculate_threshold(X, Y):\n",
    "    nmin = np.min(X)\n",
    "    nmax = np.max(X)\n",
    "    f1_highest = 0\n",
    "    threshold_highest = nmin\n",
    "    for i in range(nmin, nmax + 1): \n",
    "        pred = X > i\n",
    "        cm = create_confusion_matrix(Y, pred)\n",
    "        prec = calculate_precision(cm)\n",
    "        rec = calculate_recall(cm)\n",
    "        f1 = generate_f1_score(prec, rec)\n",
    "        if f1 > f1_highest:\n",
    "            f1_highest = f1\n",
    "            threshold_highest = i\n",
    "            \n",
    "    return f1_highest, threshold_highest\n",
    "\n",
    "calculate_threshold(X, Y)"
   ]
  },
  {
   "cell_type": "markdown",
   "id": "422a952a",
   "metadata": {},
   "source": [
    "# Problem 2\n",
    "Assume there is a budget cut in your college counseling department. As a counselor, you can allocate some resources only on those students who are likley to go to college. However, you have to follow no-student-left-behind policy as closely as possible. That is, every student you misclassify as a false-negative, there's a higher penalty. Assuming you get 1 point for true positive and true negative, and -2 points for a false negative and -1 point for false positive, what is the threshold for the final exam score that can predict if a student will go to college or not?"
   ]
  },
  {
   "cell_type": "code",
   "execution_count": 26,
   "id": "60b758f1",
   "metadata": {},
   "outputs": [],
   "source": [
    "def calculate_gains(ground_truth, model_data):\n",
    "    tp = (ground_truth & model_data).sum()\n",
    "    tn = (~ground_truth & ~model_data).sum()\n",
    "    fp = (~ground_truth & model_data).sum()\n",
    "    fn = (ground_truth & ~model_data).sum()\n",
    "    \n",
    "    return tp + (-1)*fp + (-2)*fn + tn"
   ]
  },
  {
   "cell_type": "code",
   "execution_count": 27,
   "id": "a8d0e180",
   "metadata": {},
   "outputs": [],
   "source": [
    "def maximize_gains(X, Y):\n",
    "    nmin = np.min(X)\n",
    "    nmax = np.max(X)\n",
    "    \n",
    "    gain_highest = 0\n",
    "    threshold = nmin\n",
    "    for i in range(nmin, nmax + 1): \n",
    "        pred = X > i\n",
    "        gain = calculate_gains(Y, pred)\n",
    "        if gain > gain_highest:\n",
    "            gain_highest = gain\n",
    "            threshold = i\n",
    "            \n",
    "    return gain_highest, threshold"
   ]
  },
  {
   "cell_type": "markdown",
   "id": "4cc88c39",
   "metadata": {},
   "source": [
    "# Problem 3\n",
    "\n",
    "By raising the classification threshold, what happens to precision and recall?"
   ]
  },
  {
   "cell_type": "markdown",
   "id": "9f660f09",
   "metadata": {},
   "source": [
    "Precision tends to increase, while recall decreases or stays the same. "
   ]
  },
  {
   "cell_type": "markdown",
   "id": "336689d3",
   "metadata": {},
   "source": [
    "# Problem 4\n",
    "There are two models: one with higher recall and the other with higher precision. Which model is better?\n",
    "None - hard to tell\n",
    "\n",
    "# Problem 5\n",
    "If model A has better precision and better recall than model B, then is model A is a better model?\n",
    "Yes."
   ]
  },
  {
   "cell_type": "markdown",
   "id": "6ac8392b",
   "metadata": {},
   "source": [
    "# References\n",
    "\n",
    "* https://developers.google.com/machine-learning/crash-course/classification/check-your-understanding-accuracy-precision-recall"
   ]
  },
  {
   "cell_type": "code",
   "execution_count": null,
   "id": "8fc982c4",
   "metadata": {},
   "outputs": [],
   "source": []
  }
 ],
 "metadata": {
  "kernelspec": {
   "display_name": "Python 3 (ipykernel)",
   "language": "python",
   "name": "python3"
  },
  "language_info": {
   "codemirror_mode": {
    "name": "ipython",
    "version": 3
   },
   "file_extension": ".py",
   "mimetype": "text/x-python",
   "name": "python",
   "nbconvert_exporter": "python",
   "pygments_lexer": "ipython3",
   "version": "3.10.8"
  }
 },
 "nbformat": 4,
 "nbformat_minor": 5
}
