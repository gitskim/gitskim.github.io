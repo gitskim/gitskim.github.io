{
 "cells": [
  {
   "cell_type": "code",
   "execution_count": 3,
   "id": "2d1e7429",
   "metadata": {},
   "outputs": [],
   "source": [
    "import numpy as np\n",
    "import matplotlib.pyplot as plt\n",
    "%matplotlib inline"
   ]
  },
  {
   "cell_type": "markdown",
   "id": "113fea2c",
   "metadata": {},
   "source": [
    "# Q1. What is the difference between convolution vs. correlation?"
   ]
  },
  {
   "cell_type": "markdown",
   "id": "226d1a2f",
   "metadata": {},
   "source": [
    "# Q2. Implement convolution that the convolutional neural network refers to"
   ]
  },
  {
   "cell_type": "code",
   "execution_count": 4,
   "id": "15934cef",
   "metadata": {},
   "outputs": [
    {
     "ename": "SyntaxError",
     "evalue": "incomplete input (2655847638.py, line 2)",
     "output_type": "error",
     "traceback": [
      "\u001b[0;36m  Input \u001b[0;32mIn [4]\u001b[0;36m\u001b[0m\n\u001b[0;31m    # TODO\u001b[0m\n\u001b[0m          ^\u001b[0m\n\u001b[0;31mSyntaxError\u001b[0m\u001b[0;31m:\u001b[0m incomplete input\n"
     ]
    }
   ],
   "source": [
    "def convolution_2d(stencil, image):\n",
    "    # TODO"
   ]
  },
  {
   "cell_type": "markdown",
   "id": "d03aca38",
   "metadata": {},
   "source": [
    "# Testing the convolution"
   ]
  },
  {
   "cell_type": "code",
   "execution_count": null,
   "id": "c3cc002c",
   "metadata": {},
   "outputs": [],
   "source": [
    "def make_test_image(N=512):\n",
    "    X = np.random.randint(0, 64, (N, N))\n",
    "\n",
    "    for k in range(6):\n",
    "        i0, j0 = np.random.randint(0, N-32, 2)\n",
    "        i1 = np.random.randint(i0 + 8, N)\n",
    "        j1 = np.random.randint(j0 + 8, N)\n",
    "        X[i0 : i1, j0 : j1] = np.cumsum(\n",
    "            np.random.randint(0, 6, (i1 - i0, j1 - j0)),\n",
    "            axis=k%2\n",
    "        )\n",
    "    X = np.minimum(X, 255)\n",
    "    return X"
   ]
  },
  {
   "cell_type": "code",
   "execution_count": null,
   "id": "a9435dab",
   "metadata": {},
   "outputs": [],
   "source": [
    "image = make_test_image()\n",
    "fig = plt.figure()\n",
    "ax = fig.add_subplot(111)\n",
    "ax.imshow(image)"
   ]
  },
  {
   "cell_type": "code",
   "execution_count": null,
   "id": "08058faa",
   "metadata": {},
   "outputs": [],
   "source": [
    "stencil = np.array([[-1, 0], [0, 1]])"
   ]
  },
  {
   "cell_type": "code",
   "execution_count": null,
   "id": "66c11551",
   "metadata": {},
   "outputs": [],
   "source": [
    "len(image)"
   ]
  },
  {
   "cell_type": "code",
   "execution_count": null,
   "id": "5e518ae6",
   "metadata": {},
   "outputs": [],
   "source": [
    "conv = convolution_2d(stencil, image)"
   ]
  },
  {
   "cell_type": "code",
   "execution_count": null,
   "id": "52aa218f",
   "metadata": {},
   "outputs": [],
   "source": [
    "fig = plt.figure()\n",
    "ax = fig.add_subplot(111)\n",
    "ax.imshow(conv)"
   ]
  },
  {
   "cell_type": "code",
   "execution_count": null,
   "id": "cf4924a5",
   "metadata": {},
   "outputs": [],
   "source": []
  }
 ],
 "metadata": {
  "kernelspec": {
   "display_name": "Python 3 (ipykernel)",
   "language": "python",
   "name": "python3"
  },
  "language_info": {
   "codemirror_mode": {
    "name": "ipython",
    "version": 3
   },
   "file_extension": ".py",
   "mimetype": "text/x-python",
   "name": "python",
   "nbconvert_exporter": "python",
   "pygments_lexer": "ipython3",
   "version": "3.10.8"
  }
 },
 "nbformat": 4,
 "nbformat_minor": 5
}
