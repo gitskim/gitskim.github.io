{
 "cells": [
  {
   "cell_type": "code",
   "execution_count": 1,
   "id": "131a90bc",
   "metadata": {},
   "outputs": [],
   "source": [
    "import numpy as np"
   ]
  },
  {
   "cell_type": "code",
   "execution_count": 11,
   "id": "0c42885b",
   "metadata": {},
   "outputs": [],
   "source": [
    "import matplotlib.pyplot as plt\n",
    "%matplotlib notebook\n",
    "plt.style.use(\"bmh\")"
   ]
  },
  {
   "cell_type": "code",
   "execution_count": 3,
   "id": "d97670b2",
   "metadata": {},
   "outputs": [],
   "source": [
    "def f(w, x):\n",
    "    return w @ x\n",
    "\n",
    "\n",
    "def gradf(w, x):\n",
    "    return x\n",
    "\n",
    "\n",
    "def gradient_descent(f, gradf, eta, w, x, itration=10000):\n",
    "    prev = 100000\n",
    "    while abs((f_val := (f(w, x))  - prev)) >= 0.001 or itration >= 0:\n",
    "        prev = f_val\n",
    "        w = w - eta * gradf(w, x)\n",
    "        itration -= 1\n",
    "        \n",
    "    return w"
   ]
  },
  {
   "cell_type": "code",
   "execution_count": null,
   "id": "83931c32",
   "metadata": {},
   "outputs": [],
   "source": []
  }
 ],
 "metadata": {
  "kernelspec": {
   "display_name": "Python 3 (ipykernel)",
   "language": "python",
   "name": "python3"
  },
  "language_info": {
   "codemirror_mode": {
    "name": "ipython",
    "version": 3
   },
   "file_extension": ".py",
   "mimetype": "text/x-python",
   "name": "python",
   "nbconvert_exporter": "python",
   "pygments_lexer": "ipython3",
   "version": "3.8.12"
  }
 },
 "nbformat": 4,
 "nbformat_minor": 5
}
