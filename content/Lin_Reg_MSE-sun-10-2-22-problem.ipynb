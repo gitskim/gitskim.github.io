{
 "cells": [
  {
   "cell_type": "code",
   "execution_count": 1,
   "id": "e65f5706",
   "metadata": {},
   "outputs": [],
   "source": [
    "import numpy as np\n",
    "import matplotlib.pyplot as plt\n",
    "%matplotlib inline"
   ]
  },
  {
   "cell_type": "markdown",
   "id": "770ef3f6",
   "metadata": {},
   "source": [
    "# Linear regression\n",
    "## Ordinary least squares by pseudoinverse and gradient descent"
   ]
  },
  {
   "cell_type": "markdown",
   "id": "52ddb0f1",
   "metadata": {},
   "source": [
    "First, create some example data. There are $N=1000$ data points with one dimension of input and one dimension of output. "
   ]
  },
  {
   "cell_type": "code",
   "execution_count": 2,
   "id": "f4656059",
   "metadata": {},
   "outputs": [],
   "source": [
    "N = 1000\n",
    "w0 = np.array([1, 2])\n",
    "X = np.empty((N, 2))\n",
    "X[:, 1] = 1 # for b, the y-intercept\n",
    "X[:, 0] = np.random.normal(0, 1, N)\n",
    "y0 = X @ w0\n",
    "y = y0 + np.random.normal(0, 0.1, N) # y is y0 plus noise"
   ]
  },
  {
   "cell_type": "code",
   "execution_count": 3,
   "id": "71015d5b",
   "metadata": {},
   "outputs": [
    {
     "data": {
      "text/plain": [
       "Text(0, 0.5, 'output')"
      ]
     },
     "execution_count": 3,
     "metadata": {},
     "output_type": "execute_result"
    },
    {
     "data": {
      "image/png": "[encoded data removed]",
      "text/plain": [
       "<Figure size 432x288 with 1 Axes>"
      ]
     },
     "metadata": {
      "needs_background": "light"
     },
     "output_type": "display_data"
    }
   ],
   "source": [
    "fig = plt.figure()\n",
    "ax = fig.add_subplot(111)\n",
    "ax.plot(X[:, 0], y0, \".\", label=\"no noise\") # no noise\n",
    "ax.plot(X[:, 0], y, \".\", alpha=0.25, label=\"noise\") # noise\n",
    "ax.legend(loc=0)\n",
    "ax.set_xlabel(\"input\")\n",
    "ax.set_ylabel(\"output\")"
   ]
  },
  {
   "cell_type": "markdown",
   "id": "a97adaa2",
   "metadata": {},
   "source": [
    "Write a function to compute the mean squared error.\n",
    "$$ MSE(w) = N^{-1} \\sum_{i=1}^{N}(y_{i, pred} - y_{i, true})^2$$\n",
    "$$ = N^{-1} \\sum_{i=1}^{N}(x_i w - y_{i, true})^2 $$"
   ]
  },
  {
   "cell_type": "code",
   "execution_count": 4,
   "id": "be538b58",
   "metadata": {},
   "outputs": [],
   "source": [
    "def mse(X, w, y):\n",
    "    pass # TODO"
   ]
  },
  {
   "cell_type": "markdown",
   "id": "34b0db31",
   "metadata": {},
   "source": [
    "## Solve for $w$ with pseudoinverse"
   ]
  },
  {
   "cell_type": "code",
   "execution_count": 5,
   "id": "247ae5ab",
   "metadata": {},
   "outputs": [],
   "source": [
    "def w_from_psudoinverse(X, y):\n",
    "    pass # TODO"
   ]
  },
  {
   "cell_type": "markdown",
   "id": "1bf2d18d",
   "metadata": {},
   "source": [
    "## Solve for $w$ with gradient descent"
   ]
  },
  {
   "cell_type": "code",
   "execution_count": 6,
   "id": "73a33199",
   "metadata": {},
   "outputs": [],
   "source": [
    "def gradient_descent():\n",
    "    pass # TODO"
   ]
  },
  {
   "cell_type": "code",
   "execution_count": null,
   "id": "c237a8f4",
   "metadata": {},
   "outputs": [],
   "source": [
    "def mse_grad():\n",
    "    pass # TODO"
   ]
  }
 ],
 "metadata": {
  "kernelspec": {
   "display_name": "Python 3 (ipykernel)",
   "language": "python",
   "name": "python3"
  },
  "language_info": {
   "codemirror_mode": {
    "name": "ipython",
    "version": 3
   },
   "file_extension": ".py",
   "mimetype": "text/x-python",
   "name": "python",
   "nbconvert_exporter": "python",
   "pygments_lexer": "ipython3",
   "version": "3.10.8"
  }
 },
 "nbformat": 4,
 "nbformat_minor": 5
}
