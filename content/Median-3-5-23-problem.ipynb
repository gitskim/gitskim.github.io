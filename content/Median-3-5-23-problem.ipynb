{
 "cells": [
  {
   "cell_type": "code",
   "execution_count": 76,
   "id": "ca7087de",
   "metadata": {},
   "outputs": [],
   "source": [
    "import numpy as np\n",
    "import matplotlib.pyplot as plt\n",
    "from scipy.stats import cauchy\n",
    "from scipy.ndimage import gaussian_filter1d"
   ]
  },
  {
   "cell_type": "code",
   "execution_count": 2,
   "id": "1389385f",
   "metadata": {},
   "outputs": [],
   "source": [
    "%matplotlib notebook"
   ]
  },
  {
   "cell_type": "code",
   "execution_count": 86,
   "id": "4b9b7522",
   "metadata": {},
   "outputs": [],
   "source": [
    "def make_data():\n",
    "    N = 10000\n",
    "    x = np.linspace(0, 4, N)\n",
    "    x[2000:] += 1\n",
    "    x[5500:] -= 2\n",
    "    x[8000:] += 0.5\n",
    "    x = gaussian_filter1d(x, 100)\n",
    "    return x + cauchy.rvs(0, 0.3, N)"
   ]
  },
  {
   "cell_type": "code",
   "execution_count": 99,
   "id": "93883dba",
   "metadata": {},
   "outputs": [],
   "source": [
    "x = make_data()"
   ]
  },
  {
   "cell_type": "markdown",
   "id": "a80b6bb4",
   "metadata": {},
   "source": [
    "# Running median of a time series\n",
    "\n",
    "Let $z$ be a time series of real numbers formed by a slowly changing signal $x$ corrupted by additive, independent, and identically distributed noise $\\epsilon$, $z(n) = x(n) + \\epsilon(n)$. The noise has many outliers, and its mean is undefined, but its median is known to be zero. You also know that $x(n)$ changes slowly; $|x(n) - x(n-1)|$ is usually less than 0.01."
   ]
  },
  {
   "cell_type": "markdown",
   "id": "d59a4c6b",
   "metadata": {},
   "source": [
    "## Question 1\n",
    "\n",
    "Recover the signal $z$ given $x$ by computing a running estimate $m(n)$ of the **median** of $x(n)$, $m(n) \\approx \\mathrm{Median}(x(n))$. The estimate must be computed online -- that is, $m(n)$ can only depend on $x$ up to and including index $n$. You estimator may only use a constant (and small) amount of memory; no matter how long $x$ is, the estimator has to use the same amount of memory."
   ]
  },
  {
   "cell_type": "markdown",
   "id": "6ecf5a53",
   "metadata": {},
   "source": [
    "## Question 2\n",
    "\n",
    "Why does your method work? How does it trade off between precision and fast response?"
   ]
  },
  {
   "cell_type": "markdown",
   "id": "2cbb6988",
   "metadata": {},
   "source": [
    "## Question 3\n",
    "How might you adapt your method to approximate arbitrary percentiles of $x$?"
   ]
  },
  {
   "cell_type": "code",
   "execution_count": null,
   "id": "2af6bf4d",
   "metadata": {},
   "outputs": [],
   "source": []
  }
 ],
 "metadata": {
  "kernelspec": {
   "display_name": "Python 3 (ipykernel)",
   "language": "python",
   "name": "python3"
  },
  "language_info": {
   "codemirror_mode": {
    "name": "ipython",
    "version": 3
   },
   "file_extension": ".py",
   "mimetype": "text/x-python",
   "name": "python",
   "nbconvert_exporter": "python",
   "pygments_lexer": "ipython3",
   "version": "3.9.12"
  }
 },
 "nbformat": 4,
 "nbformat_minor": 5
}
