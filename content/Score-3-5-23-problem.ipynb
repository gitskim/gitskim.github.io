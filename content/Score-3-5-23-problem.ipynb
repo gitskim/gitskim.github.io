{
 "cells": [
  {
   "cell_type": "code",
   "execution_count": 2,
   "id": "79d427a9",
   "metadata": {},
   "outputs": [],
   "source": [
    "import numpy as np\n",
    "import matplotlib.pyplot as plt"
   ]
  },
  {
   "cell_type": "code",
   "execution_count": 3,
   "id": "76bf1f82",
   "metadata": {},
   "outputs": [],
   "source": [
    "%matplotlib inline"
   ]
  },
  {
   "cell_type": "markdown",
   "id": "c3ad36c6",
   "metadata": {},
   "source": [
    "# Data Generation"
   ]
  },
  {
   "cell_type": "code",
   "execution_count": 4,
   "id": "5b47ed16",
   "metadata": {},
   "outputs": [],
   "source": [
    "N = 1000\n",
    "mu_1, sigma_1 = 75, 10\n",
    "exam_1 = np.random.normal(mu_1, sigma_1, N//2)\n",
    "exam_1 = exam_1.astype(int)\n",
    "exam_1 = np.clip(exam_1, 0, 100)\n",
    "mu_2, sigma_2 = 45, 10\n",
    "exam_2 = np.random.normal(mu_2, sigma_2, N//2)\n",
    "exam_2 = exam_2.astype(int)\n",
    "exam_2 = np.clip(exam_2, 0, 100)\n",
    "X = np.concatenate((exam_1, exam_2))\n",
    "Y = np.zeros(N, dtype=np.bool_)\n",
    "Y[:N//2] = 1"
   ]
  },
  {
   "cell_type": "code",
   "execution_count": 5,
   "id": "b4c0caa3",
   "metadata": {},
   "outputs": [
    {
     "data": {
      "image/png": "[encoded data removed]",
      "text/plain": [
       "<Figure size 640x480 with 3 Axes>"
      ]
     },
     "metadata": {},
     "output_type": "display_data"
    }
   ],
   "source": [
    "fig = plt.figure()\n",
    "ax = fig.add_subplot(221)\n",
    "ax2 = fig.add_subplot(222)\n",
    "ax3 = fig.add_subplot(212)\n",
    "_ = ax.hist(exam_1, alpha = 0.5, bins=30)\n",
    "_ = ax2.hist(exam_2, alpha=0.5, bins=30)\n",
    "_ = ax3.hist(exam_1, alpha=0.5, bins=30)\n",
    "_ = ax3.hist(exam_2, alpha = 0.5, bins=30)"
   ]
  },
  {
   "cell_type": "markdown",
   "id": "cbc2fdbd",
   "metadata": {},
   "source": [
    "# Problem 1\n",
    "\n",
    "Let `X[i]` be the final exam score of student `i` on an exam whose scores range from 0 to 100. Let `Y[i]` be 1 if student `i` got into college and 0 if they didn't. `N` is the total number of students.\n",
    "\n",
    "As a student counselor, you are interested in using the exam to predict whether each student will get into college or not. You're considering using a threshold, where students who score above the threshold are predicted to get in and students below it are not.\n",
    "\n",
    "To quantify the validity of this approach, first find precision and recall as a function of the threshold. Then maximize their harmonic mean by finding the exam score threshold that **maximizes the f1 score**."
   ]
  },
  {
   "cell_type": "markdown",
   "id": "5fa265cd",
   "metadata": {},
   "source": [
    "![Confusion Matrix](https://www.researchgate.net/publication/336402347/figure/fig3/AS:812472659349505@1570719985505/Calculation-of-Precision-Recall-and-Accuracy-in-the-confusion-matrix.ppm \"CM with precision and recall\")"
   ]
  },
  {
   "cell_type": "code",
   "execution_count": 1,
   "id": "180f4cf8",
   "metadata": {},
   "outputs": [],
   "source": [
    "def create_confusion_matrix(ground_truth, exam_data, threshold):\n",
    "    # TODO\n",
    "    pass"
   ]
  },
  {
   "cell_type": "code",
   "execution_count": 2,
   "id": "a011fa11",
   "metadata": {},
   "outputs": [],
   "source": [
    "def calculate_precision(confusion_matrix):\n",
    "    # tp / (tp + fp)\n",
    "    # TODO\n",
    "    pass\n",
    "\n",
    "def calculate_recall(confusion_matrix):\n",
    "    # TODO\n",
    "    pass"
   ]
  },
  {
   "cell_type": "code",
   "execution_count": 3,
   "id": "b1dbdcfb",
   "metadata": {},
   "outputs": [],
   "source": [
    "def generate_f1_score(precision, recall):\n",
    "    # TODO\n",
    "    pass"
   ]
  },
  {
   "cell_type": "code",
   "execution_count": 4,
   "id": "f5c1092a",
   "metadata": {},
   "outputs": [],
   "source": [
    "def maximize_f1(X, Y):\n",
    "    # TODO\n",
    "    pass"
   ]
  },
  {
   "cell_type": "markdown",
   "id": "422a952a",
   "metadata": {},
   "source": [
    "# Problem 2\n",
    "\n",
    "Students often ask you if you think they will get in to college. You want to provide a useful, honest answer, and you've determined that a false positive -- saying they'll get into college and then they don't -- is eight times as bad as a false negative. If you get the right answer, that's equally useful no matter the outcome; so you assign rewards as follows:\n",
    "* False positive: -8\n",
    "* False negative : -1\n",
    "* True positive: 1\n",
    "* True negative: 1\n",
    "\n",
    "What threshold maximizes your expected reward?"
   ]
  },
  {
   "cell_type": "code",
   "execution_count": 5,
   "id": "60b758f1",
   "metadata": {},
   "outputs": [],
   "source": [
    "def calculate_gains(ground_truth, model_data):\n",
    "    # TODO\n",
    "    pass"
   ]
  },
  {
   "cell_type": "code",
   "execution_count": 6,
   "id": "a8d0e180",
   "metadata": {},
   "outputs": [],
   "source": [
    "def maximize_gains(X, Y):\n",
    "    # TODO\n",
    "    pass"
   ]
  },
  {
   "cell_type": "markdown",
   "id": "4cc88c39",
   "metadata": {},
   "source": [
    "# Problem 3\n",
    "\n",
    "By raising the classification threshold, what happens to precision and recall?"
   ]
  },
  {
   "cell_type": "markdown",
   "id": "336689d3",
   "metadata": {},
   "source": [
    "# Problem 4\n",
    "There are two models: one with higher recall and the other with higher precision. Which model is better?\n",
    "None - hard to tell\n",
    "\n",
    "# Problem 5\n",
    "If model A has better precision and better recall than model B, then is model A is a better model?\n",
    "Yes."
   ]
  },
  {
   "cell_type": "code",
   "execution_count": null,
   "id": "8fc982c4",
   "metadata": {},
   "outputs": [],
   "source": []
  }
 ],
 "metadata": {
  "kernelspec": {
   "display_name": "Python 3 (ipykernel)",
   "language": "python",
   "name": "python3"
  },
  "language_info": {
   "codemirror_mode": {
    "name": "ipython",
    "version": 3
   },
   "file_extension": ".py",
   "mimetype": "text/x-python",
   "name": "python",
   "nbconvert_exporter": "python",
   "pygments_lexer": "ipython3",
   "version": "3.9.12"
  }
 },
 "nbformat": 4,
 "nbformat_minor": 5
}
