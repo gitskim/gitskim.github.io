{
 "cells": [
  {
   "cell_type": "code",
   "execution_count": 1,
   "id": "fa2974b0",
   "metadata": {},
   "outputs": [],
   "source": [
    "import numpy as np\n",
    "import matplotlib.pyplot as plt"
   ]
  },
  {
   "cell_type": "code",
   "execution_count": 8,
   "id": "e05cc126",
   "metadata": {},
   "outputs": [
    {
     "name": "stdout",
     "output_type": "stream",
     "text": [
      "The epoch is: Thu Jan  1 00:00:00 1970\n",
      "Milliseconds since epoch: 1677905910095\n"
     ]
    }
   ],
   "source": [
    "import time\n",
    "obj = time.gmtime(0)\n",
    "epoch = time.asctime(obj)\n",
    "print(\"The epoch is:\",epoch)\n",
    "curr_time = round(time.time()*1000)\n",
    "print(\"Milliseconds since epoch:\",curr_time)"
   ]
  },
  {
   "cell_type": "code",
   "execution_count": 2,
   "id": "4a53cba1",
   "metadata": {},
   "outputs": [],
   "source": [
    "%matplotlib inline"
   ]
  },
  {
   "cell_type": "markdown",
   "id": "1a9e9afd",
   "metadata": {},
   "source": [
    "# Time series: descriptive statistics and smoothing\n",
    "\n",
    "`daily_stock[]` is an array of 124 stock prices, each sampled at the beginning of the day. This is a multi-part problem about computing descriptive statistics of times series, interpolation, and smoothing."
   ]
  },
  {
   "cell_type": "code",
   "execution_count": 3,
   "id": "d3388a1e",
   "metadata": {},
   "outputs": [],
   "source": [
    "daily_stock = np.array([4012.32, 3991.05, 3997.34, 4079.09, 4090.41, 4147.60, 4136.13, 4137.29, 4090.46, 4081.50, 4117.86, 4164.00, 4111.08, 4136.48, 4179.76, 4119.21, 4076.60, 4017.77, 4070.56, 4060.43, 4016.22, 4016.95, 4019.81, 3972.61, 3898.85, 3928.86, 3990.97, 3999.09, 3983.17, 3969.61, 3919.25, 3892.09, 3895.08, 3808.10, 3852.97, 3824.14, 3839.50, 3849.28, 3783.22, 3829.25, 3844.82, 3822.39, 3878.44, 3821.62, 3817.66, 3852.36, 3895.75, 3995.32, 4019.65, 3990.56, 3934.38, 3963.51, 3933.92, 3941.26, 3998.84, 4071.70, 4076.57, 4080.11, 3957.63, 3963.94, 4026.12, 4027.26, 4003.58, 3949.94, 3965.34, 3946.56, 3958.79, 3991.73, 3957.25, 3992.93, 3956.37, 3748.57, 3828.11, 3806.80, 3770.55, 3719.89, 3759.69, 3856.10, 3871.98, 3901.06, 3807.30, 3830.60, 3859.11, 3797.34, 3752.75, 3665.78, 3695.16, 3719.98, 3677.95, 3583.07, 3669.91, 3577.03, 3588.84, 3612.39, 3639.66, 3744.52, 3783.28, 3790.93, 3678.43, 3585.62, 3640.47, 3719.04, 3647.29, 3655.04, 3693.23, 3757.99, 3789.93, 3855.93, 3899.89, 3873.33, 3901.35, 3946.01, 3932.69, 4110.41, 4067.36, 4006.18, 3979.87, 3908.19, 3924.26, 3966.85, 3955.00, 3986.16, 4030.61, 4057.66,\n",
    "])"
   ]
  },
  {
   "cell_type": "markdown",
   "id": "8e552f00",
   "metadata": {},
   "source": [
    "## 1: Mean and variance\n",
    "\n",
    "Compute the mean and variance of the whole time series (without using `np.mean()` or `np.var()`)"
   ]
  },
  {
   "cell_type": "code",
   "execution_count": 4,
   "id": "ee2fa33d",
   "metadata": {},
   "outputs": [],
   "source": [
    "def mean(X):\n",
    "    #TODO\n",
    "    pass"
   ]
  },
  {
   "cell_type": "code",
   "execution_count": 5,
   "id": "6d5a0a44",
   "metadata": {},
   "outputs": [],
   "source": [
    "def var(X):\n",
    "    #TODO\n",
    "    pass"
   ]
  },
  {
   "cell_type": "markdown",
   "id": "a1a49d7b",
   "metadata": {},
   "source": [
    "## 2: Windowed mean and variance\n",
    "\n",
    "Write a function that takes a one-dimensional array, a start index, and an end index, and returns the mean and variance of the part of the array inside the window. The window includes the start and end index. You can assume the indices are valid and in the right order."
   ]
  },
  {
   "cell_type": "code",
   "execution_count": 6,
   "id": "c6796f6b",
   "metadata": {},
   "outputs": [],
   "source": [
    "def win_mean_var(X, start_i, end_i):\n",
    "    # TODO\n",
    "    pass"
   ]
  },
  {
   "cell_type": "markdown",
   "id": "fbc939b9",
   "metadata": {},
   "source": [
    "## 3: Smoothing with Moving average\n",
    "\n",
    "Write a function that takes a one-dimensional array `X[]` and a window width `width`, and returns the arrays of windowed means and variances. The `i`th output element is based on `width` *previous* elements of `X[]` (not looking into the future, up to *and including* index `i`). That is, `mean[i]` is the mean of `X[i-width...i]`. Return arrays of the same length as `X[]`; at the beginning of `X[]`, before `width` samples are available, `mean[i]` uses `X[0...i]` (same for variance).\n",
    "\n",
    "e.g. given this array `[0, 1, 2, 3]` and the `width` of 2, the return `mean` array should look like this `[mean([0]), mean([0, 1]), mean([1, 2]), mean([2, 3])` The return `variance` array should look like this `[var([0]), var([0, 1]), var([1, 2]), var([2, 3])]`\n",
    "\n",
    "You can assume the width is always less than or equal to the lengh of the given array "
   ]
  },
  {
   "cell_type": "code",
   "execution_count": 7,
   "id": "1350aa29",
   "metadata": {},
   "outputs": [],
   "source": [
    "def sliding_mean_var(X, width):\n",
    "    M = np.empty_like(X)\n",
    "    V = np.empty_like(X)\n",
    "    # TODO\n",
    "    return M, V"
   ]
  },
  {
   "cell_type": "markdown",
   "id": "42972ef6",
   "metadata": {},
   "source": [
    "## 4: Plot\n",
    "\n",
    "Plot the raw stock prices along with a smoothed version based on seven previous days of prices. To show which days have unusual stock prices, plot curves one standard deviation above and below the smoothed prices."
   ]
  },
  {
   "cell_type": "code",
   "execution_count": null,
   "id": "b6d196f7",
   "metadata": {},
   "outputs": [],
   "source": []
  }
 ],
 "metadata": {
  "kernelspec": {
   "display_name": "Python 3 (ipykernel)",
   "language": "python",
   "name": "python3"
  },
  "language_info": {
   "codemirror_mode": {
    "name": "ipython",
    "version": 3
   },
   "file_extension": ".py",
   "mimetype": "text/x-python",
   "name": "python",
   "nbconvert_exporter": "python",
   "pygments_lexer": "ipython3",
   "version": "3.10.8"
  }
 },
 "nbformat": 4,
 "nbformat_minor": 5
}
