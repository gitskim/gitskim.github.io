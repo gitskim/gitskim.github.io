{
 "cells": [
  {
   "cell_type": "code",
   "execution_count": 1,
   "id": "06a389fb",
   "metadata": {},
   "outputs": [],
   "source": [
    "import numpy as np\n",
    "import matplotlib.pyplot as plt\n",
    "import matplotlib\n",
    "\n",
    "%matplotlib inline\n",
    "\n",
    "# This shows how to control some plot style parameters. You can change them to\n",
    "# suit the website's style\n",
    "plt.style.use(\"classic\")\n",
    "plt.rcParams['axes.grid'] = True\n",
    "plt.rcParams['axes.facecolor'] = '#EEEEEE'\n",
    "plt.rcParams[\"font.sans-serif\"] = [\"Helvetica\"]\n",
    "plt.rcParams[\"axes.xmargin\"] = 0.05\n",
    "plt.rcParams[\"axes.ymargin\"] = 0.05\n",
    "plt.rcParams[\"figure.constrained_layout.use\"] = True\n",
    "plt.rcParams[\"legend.fontsize\"] = \"medium\"\n",
    "plt.rcParams[\"image.cmap\"] = \"gnuplot\""
   ]
  },
  {
   "cell_type": "markdown",
   "id": "de50f875",
   "metadata": {},
   "source": [
    "# Data Generation"
   ]
  },
  {
   "cell_type": "code",
   "execution_count": 3,
   "id": "b8fb9260",
   "metadata": {},
   "outputs": [],
   "source": [
    "N = 1000\n",
    "cancer_rate = 0.15\n",
    "ground_truth = np.random.uniform(0, 1, N) < cancer_rate\n",
    "model_data_1 = np.random.uniform(0, 1, N) < cancer_rate\n",
    "model_data_2 = np.zeros_like(model_data_1)"
   ]
  },
  {
   "cell_type": "markdown",
   "id": "712fc3fd",
   "metadata": {},
   "source": [
    "# Problem 1\n",
    "There are 2 machine learning models predicting whether or not if a patient has cancer. Model 1 generated `model_data_1` and Model 2 generated `model_data_2`. You are given `ground_truth` as the ground truth of whether or not if a patient has a cancer. Tabulate confusion matrix."
   ]
  },
  {
   "cell_type": "code",
   "execution_count": 4,
   "id": "9813fa1f",
   "metadata": {},
   "outputs": [],
   "source": [
    "# Model Data 1\n",
    "tp1 = (ground_truth & model_data_1).sum()\n",
    "tn1 = (~ground_truth & ~model_data_1).sum()\n",
    "fp1 = (~ground_truth & model_data_1).sum()\n",
    "fn1 = (ground_truth & ~model_data_1).sum()"
   ]
  },
  {
   "cell_type": "code",
   "execution_count": 5,
   "id": "c9ccb8ce",
   "metadata": {},
   "outputs": [
    {
     "data": {
      "text/plain": [
       "array([[ 21, 121],\n",
       "       [740, 118]])"
      ]
     },
     "execution_count": 5,
     "metadata": {},
     "output_type": "execute_result"
    }
   ],
   "source": [
    "confusion_matrix1 = np.array([[tp1, fp1], [tn1, fn1]])\n",
    "confusion_matrix1"
   ]
  },
  {
   "cell_type": "code",
   "execution_count": 6,
   "id": "e6323168",
   "metadata": {},
   "outputs": [],
   "source": [
    "# Model Data 2\n",
    "tp2 = (ground_truth & model_data_2).sum()\n",
    "tn2 = (~ground_truth & ~model_data_2).sum()\n",
    "fp2 = (~ground_truth & model_data_2).sum()\n",
    "fn2 = (ground_truth & ~model_data_2).sum()"
   ]
  },
  {
   "cell_type": "code",
   "execution_count": 7,
   "id": "6356b51f",
   "metadata": {},
   "outputs": [
    {
     "data": {
      "text/plain": [
       "array([[  0,   0],\n",
       "       [861, 139]])"
      ]
     },
     "execution_count": 7,
     "metadata": {},
     "output_type": "execute_result"
    }
   ],
   "source": [
    "confusion_matrix2 = np.array([[tp2, fp2], [tn2, fn2]])\n",
    "confusion_matrix2"
   ]
  },
  {
   "cell_type": "markdown",
   "id": "0500611f",
   "metadata": {},
   "source": [
    "# Problem 2 \n",
    "Calculate accuracy, precision and recall for each model. "
   ]
  },
  {
   "cell_type": "code",
   "execution_count": 12,
   "id": "89c7f247",
   "metadata": {},
   "outputs": [],
   "source": [
    "# Model Data 1\n",
    "tpr1 = tp1/N\n",
    "tnr1 = tn1/N\n",
    "fpr1 = fp1/N\n",
    "fnr1 = fn1/N"
   ]
  },
  {
   "cell_type": "code",
   "execution_count": 10,
   "id": "f86b8754",
   "metadata": {},
   "outputs": [],
   "source": [
    "# Model Data 2\n",
    "tpr2 = tp2/N*100\n",
    "tnr2 = tn2/N*100\n",
    "fpr2 = fp2/N*100\n",
    "fnr2 = fn2/N*100"
   ]
  },
  {
   "cell_type": "code",
   "execution_count": 14,
   "id": "ac54db61",
   "metadata": {},
   "outputs": [],
   "source": [
    "# Model 1\n",
    "accuracy1 = tpr1 + tnr1\n",
    "precision1 = tpr1 / (tpr1 + fpr1)\n",
    "recall1 = tpr1 / (tpr1 + fpr1)"
   ]
  },
  {
   "cell_type": "code",
   "execution_count": 15,
   "id": "52fea644",
   "metadata": {},
   "outputs": [
    {
     "name": "stderr",
     "output_type": "stream",
     "text": [
      "/var/folders/q0/tyd7fw0s1pvb52jk2g63krdh0000gn/T/ipykernel_716/1424029809.py:3: RuntimeWarning: invalid value encountered in scalar divide\n",
      "  precision2 = tpr2 / (tpr2 + fpr2)\n",
      "/var/folders/q0/tyd7fw0s1pvb52jk2g63krdh0000gn/T/ipykernel_716/1424029809.py:4: RuntimeWarning: invalid value encountered in scalar divide\n",
      "  recall2 = tpr2 / (tpr2 + fpr2)\n"
     ]
    }
   ],
   "source": [
    "# Model 2\n",
    "accuracy2 = tpr2 + tnr2\n",
    "precision2 = tpr2 / (tpr2 + fpr2)\n",
    "recall2 = tpr2 / (tpr2 + fpr2)"
   ]
  },
  {
   "cell_type": "code",
   "execution_count": 16,
   "id": "e7a37910",
   "metadata": {},
   "outputs": [
    {
     "data": {
      "text/plain": [
       "nan"
      ]
     },
     "execution_count": 16,
     "metadata": {},
     "output_type": "execute_result"
    }
   ],
   "source": [
    "precision2"
   ]
  },
  {
   "cell_type": "markdown",
   "id": "074c2093",
   "metadata": {},
   "source": [
    "# Problem 3\n",
    "Describe which model performed better and why?"
   ]
  },
  {
   "cell_type": "code",
   "execution_count": null,
   "id": "57ec84ce",
   "metadata": {},
   "outputs": [],
   "source": [
    "Model 1"
   ]
  },
  {
   "cell_type": "markdown",
   "id": "034f108b",
   "metadata": {},
   "source": [
    "# Reference\n",
    "https://www.nbshare.io/notebook/626706996/Learn-And-Code-Confusion-Matrix-With-Python/"
   ]
  },
  {
   "cell_type": "code",
   "execution_count": null,
   "id": "11a0269f",
   "metadata": {},
   "outputs": [],
   "source": []
  }
 ],
 "metadata": {
  "kernelspec": {
   "display_name": "Python 3 (ipykernel)",
   "language": "python",
   "name": "python3"
  },
  "language_info": {
   "codemirror_mode": {
    "name": "ipython",
    "version": 3
   },
   "file_extension": ".py",
   "mimetype": "text/x-python",
   "name": "python",
   "nbconvert_exporter": "python",
   "pygments_lexer": "ipython3",
   "version": "3.10.8"
  }
 },
 "nbformat": 4,
 "nbformat_minor": 5
}
