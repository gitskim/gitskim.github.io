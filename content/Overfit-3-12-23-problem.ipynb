{
 "cells": [
  {
   "cell_type": "code",
   "execution_count": 1,
   "id": "cd4a8fbc",
   "metadata": {},
   "outputs": [],
   "source": [
    "import numpy as np\n",
    "import matplotlib.pyplot as plt\n",
    "import sklearn.linear_model\n",
    "\n",
    "%matplotlib inline"
   ]
  },
  {
   "cell_type": "markdown",
   "id": "806bc8ef",
   "metadata": {},
   "source": [
    "You have a matrix $X$ of 100 samples of 100 input features, and a vector $Y$ of 100 outputs. Using this training data, you want to fit a linear model that will make good predictions of $y$ given new $x$s, $\\hat y = a^T x$."
   ]
  },
  {
   "cell_type": "code",
   "execution_count": 64,
   "id": "fdf835fe",
   "metadata": {},
   "outputs": [],
   "source": [
    "# data generation code -- run this cell, but you don't have to read it\n",
    "pts = 100\n",
    "dims = 100\n",
    "a0 = np.zeros(dims)\n",
    "a0[[11, 71]] = 1, -1\n",
    "\n",
    "def make_data(pts, dims, a0):\n",
    "    X = np.random.normal(0, 10, (pts, dims))\n",
    "    y0 = X @ a0\n",
    "    noise = np.random.normal(0, 1, pts)\n",
    "    Y = y0 + noise\n",
    "    return X, Y\n",
    "\n",
    "X_train, Y_train = make_data(pts, dims, a0)"
   ]
  },
  {
   "cell_type": "markdown",
   "id": "09c4e04a",
   "metadata": {},
   "source": [
    "**Question 1:** if you fit $a$ using all of $X$ and $Y$ and no regularization,  how good will the fit to the **training** data set be? Why?\n",
    "\n",
    "**Question 2:** How well do you expect your model will perform on new, unseen data drawn from the same distribution? Why?"
   ]
  },
  {
   "cell_type": "markdown",
   "id": "5bc0791a",
   "metadata": {},
   "source": [
    "**Question 3:** The below function fits a linear model using least squares and L1 regularization (lasso regression). How can you use this to produce a model that will generalize well? Why does regularization improve generalization?"
   ]
  },
  {
   "cell_type": "code",
   "execution_count": 65,
   "id": "c2662711",
   "metadata": {},
   "outputs": [],
   "source": [
    "def linreg_lasso(X, Y, c=1e-6):\n",
    "    lr = sklearn.linear_model.Lasso(\n",
    "        alpha=c, fit_intercept=False).fit(X, Y).coef_\n",
    "    return lr"
   ]
  },
  {
   "cell_type": "markdown",
   "id": "91a2aebd",
   "metadata": {},
   "source": [
    "**Question 4:** Using whatever technique you think is appropriate, write code to find the amount of regularization that will give the best generalization. Use it to find the best regularization parameter and fit a model with that parameter."
   ]
  },
  {
   "cell_type": "code",
   "execution_count": null,
   "id": "0b327d9f",
   "metadata": {},
   "outputs": [],
   "source": []
  }
 ],
 "metadata": {
  "kernelspec": {
   "display_name": "Python 3 (ipykernel)",
   "language": "python",
   "name": "python3"
  },
  "language_info": {
   "codemirror_mode": {
    "name": "ipython",
    "version": 3
   },
   "file_extension": ".py",
   "mimetype": "text/x-python",
   "name": "python",
   "nbconvert_exporter": "python",
   "pygments_lexer": "ipython3",
   "version": "3.11.2"
  }
 },
 "nbformat": 4,
 "nbformat_minor": 5
}
