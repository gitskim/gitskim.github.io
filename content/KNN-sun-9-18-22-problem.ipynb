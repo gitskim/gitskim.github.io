{
 "cells": [
  {
   "cell_type": "code",
   "execution_count": 1,
   "id": "43c24fff",
   "metadata": {},
   "outputs": [],
   "source": [
    "import numpy as np\n",
    "import matplotlib.pyplot as plt\n",
    "%matplotlib inline"
   ]
  },
  {
   "cell_type": "markdown",
   "id": "0b8f54b6",
   "metadata": {},
   "source": [
    "# k-nearest neighbors\n",
    "## 1. dataset"
   ]
  },
  {
   "cell_type": "code",
   "execution_count": 2,
   "id": "a78e6a02",
   "metadata": {},
   "outputs": [],
   "source": [
    "N = 20000\n",
    "X1 = np.random.normal(0, 1, N//2) # xs for class 1\n",
    "X2 = np.random.normal(3, 1, N//2) # xs for class 2\n",
    "X = np.concatenate((X1, X2))\n",
    "Y = np.zeros(N) # class labels\n",
    "Y[N//2:] = 1"
   ]
  },
  {
   "cell_type": "code",
   "execution_count": 3,
   "id": "40b79f4c",
   "metadata": {},
   "outputs": [
    {
     "data": {
      "image/png": "[encoded data removed]",
      "text/plain": [
       "<Figure size 432x288 with 3 Axes>"
      ]
     },
     "metadata": {
      "needs_background": "light"
     },
     "output_type": "display_data"
    }
   ],
   "source": [
    "fig = plt.figure()\n",
    "ax = fig.add_subplot(221)\n",
    "ax2 = fig.add_subplot(222)\n",
    "ax3 = fig.add_subplot(212)\n",
    "_ = ax.hist(X1, alpha=0.5, bins=64)\n",
    "_ = ax2.hist(X2, alpha=0.5, bins=64)\n",
    "_ = ax3.hist(X1, alpha=0.5, bins=64)\n",
    "_ = ax3.hist(X2, alpha = 0.5, bins=64)"
   ]
  },
  {
   "cell_type": "code",
   "execution_count": 4,
   "id": "0d525a1b",
   "metadata": {},
   "outputs": [
    {
     "data": {
      "text/plain": [
       "[<matplotlib.lines.Line2D at 0x10d31f6d0>]"
      ]
     },
     "execution_count": 4,
     "metadata": {},
     "output_type": "execute_result"
    },
    {
     "data": {
      "image/png": "[encoded data removed]",
      "text/plain": [
       "<Figure size 432x288 with 1 Axes>"
      ]
     },
     "metadata": {
      "needs_background": "light"
     },
     "output_type": "display_data"
    }
   ],
   "source": [
    "fig = plt.figure()\n",
    "ax = fig.add_subplot(111)\n",
    "ax.plot(np.sort(X1), np.sort(X2), \".\")"
   ]
  },
  {
   "cell_type": "markdown",
   "id": "904587cb",
   "metadata": {},
   "source": [
    "## 2. questions"
   ]
  },
  {
   "cell_type": "markdown",
   "id": "8331b52c",
   "metadata": {},
   "source": [
    "# Question 1\n",
    "\n",
    "Implement 1-dimensional knn where input is a real number (not necessarily in X) and the output is 0 or 1, the predicted class"
   ]
  },
  {
   "cell_type": "code",
   "execution_count": 5,
   "id": "26ac6402",
   "metadata": {},
   "outputs": [],
   "source": [
    "input_feature = 1.00123"
   ]
  },
  {
   "cell_type": "code",
   "execution_count": 6,
   "id": "4c226976",
   "metadata": {},
   "outputs": [
    {
     "ename": "SyntaxError",
     "evalue": "incomplete input (2686363505.py, line 2)",
     "output_type": "error",
     "traceback": [
      "\u001b[0;36m  Input \u001b[0;32mIn [6]\u001b[0;36m\u001b[0m\n\u001b[0;31m    # todo\u001b[0m\n\u001b[0m          ^\u001b[0m\n\u001b[0;31mSyntaxError\u001b[0m\u001b[0;31m:\u001b[0m incomplete input\n"
     ]
    }
   ],
   "source": [
    "def calc_dist(x1, x2):\n",
    "    # todo"
   ]
  },
  {
   "cell_type": "code",
   "execution_count": null,
   "id": "0d93bc2a",
   "metadata": {},
   "outputs": [],
   "source": [
    "def knn(k, input_feature, X, Y):\n",
    "    # todo"
   ]
  },
  {
   "cell_type": "markdown",
   "id": "ed83d7ec",
   "metadata": {},
   "source": [
    "# Question 2\n",
    "What are pros and cons of a big k and a small k?"
   ]
  },
  {
   "cell_type": "markdown",
   "id": "c0547230",
   "metadata": {},
   "source": [
    "# Question 3\n",
    "What is the time complexity and space complexity?"
   ]
  },
  {
   "cell_type": "code",
   "execution_count": null,
   "id": "6fdf6625",
   "metadata": {},
   "outputs": [],
   "source": []
  }
 ],
 "metadata": {
  "kernelspec": {
   "display_name": "Python 3 (ipykernel)",
   "language": "python",
   "name": "python3"
  },
  "language_info": {
   "codemirror_mode": {
    "name": "ipython",
    "version": 3
   },
   "file_extension": ".py",
   "mimetype": "text/x-python",
   "name": "python",
   "nbconvert_exporter": "python",
   "pygments_lexer": "ipython3",
   "version": "3.10.8"
  }
 },
 "nbformat": 4,
 "nbformat_minor": 5
}
